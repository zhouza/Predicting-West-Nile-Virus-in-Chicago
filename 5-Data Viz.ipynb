{
 "cells": [
  {
   "cell_type": "code",
   "execution_count": 1,
   "metadata": {
    "scrolled": true
   },
   "outputs": [],
   "source": [
    "import pandas as pd\n",
    "import numpy as np\n",
    "import pickle\n",
    "import matplotlib.pyplot as plt\n",
    "import os\n",
    "import re\n",
    "import pprint\n",
    "\n",
    "import folium\n",
    "from folium import plugins"
   ]
  },
  {
   "cell_type": "code",
   "execution_count": 31,
   "metadata": {},
   "outputs": [],
   "source": [
    "df_data = pickle.load(open('pickles/df_data_upd.pkl','rb'))\n",
    "X_col = pickle.load(open('pickles/X_col_log.pkl','rb'))"
   ]
  },
  {
   "cell_type": "code",
   "execution_count": 3,
   "metadata": {
    "scrolled": true
   },
   "outputs": [
    {
     "data": {
      "text/html": [
       "<div>\n",
       "<style scoped>\n",
       "    .dataframe tbody tr th:only-of-type {\n",
       "        vertical-align: middle;\n",
       "    }\n",
       "\n",
       "    .dataframe tbody tr th {\n",
       "        vertical-align: top;\n",
       "    }\n",
       "\n",
       "    .dataframe thead th {\n",
       "        text-align: right;\n",
       "    }\n",
       "</style>\n",
       "<table border=\"1\" class=\"dataframe\">\n",
       "  <thead>\n",
       "    <tr style=\"text-align: right;\">\n",
       "      <th></th>\n",
       "      <th>month</th>\n",
       "      <th>latitude</th>\n",
       "      <th>longitude</th>\n",
       "      <th>msqto_log</th>\n",
       "      <th>tmax</th>\n",
       "      <th>tmin</th>\n",
       "      <th>tavg</th>\n",
       "      <th>delta</th>\n",
       "      <th>dewpt</th>\n",
       "      <th>wetbulb</th>\n",
       "      <th>...</th>\n",
       "      <th>winddirection</th>\n",
       "      <th>avgspeed</th>\n",
       "      <th>spray_targeted_prev</th>\n",
       "      <th>spray_targeted</th>\n",
       "      <th>species_culex_pipiens</th>\n",
       "      <th>species_culex_pipiens_restuans</th>\n",
       "      <th>species_culex_restuans</th>\n",
       "      <th>species_culex_salinarius</th>\n",
       "      <th>species_culex_tarsalis</th>\n",
       "      <th>species_culex_territans</th>\n",
       "    </tr>\n",
       "  </thead>\n",
       "  <tbody>\n",
       "    <tr>\n",
       "      <th>0</th>\n",
       "      <td>6.0</td>\n",
       "      <td>41.991429</td>\n",
       "      <td>-87.747113</td>\n",
       "      <td>2.397986</td>\n",
       "      <td>86</td>\n",
       "      <td>65</td>\n",
       "      <td>76.0</td>\n",
       "      <td>6.0</td>\n",
       "      <td>67.0</td>\n",
       "      <td>69.0</td>\n",
       "      <td>...</td>\n",
       "      <td>18.0</td>\n",
       "      <td>11.6</td>\n",
       "      <td>0</td>\n",
       "      <td>False</td>\n",
       "      <td>0</td>\n",
       "      <td>1</td>\n",
       "      <td>0</td>\n",
       "      <td>0</td>\n",
       "      <td>0</td>\n",
       "      <td>0</td>\n",
       "    </tr>\n",
       "    <tr>\n",
       "      <th>1</th>\n",
       "      <td>8.0</td>\n",
       "      <td>41.678618</td>\n",
       "      <td>-87.559308</td>\n",
       "      <td>2.944492</td>\n",
       "      <td>84</td>\n",
       "      <td>72</td>\n",
       "      <td>78.0</td>\n",
       "      <td>5.0</td>\n",
       "      <td>71.0</td>\n",
       "      <td>73.0</td>\n",
       "      <td>...</td>\n",
       "      <td>29.0</td>\n",
       "      <td>6.0</td>\n",
       "      <td>0</td>\n",
       "      <td>False</td>\n",
       "      <td>0</td>\n",
       "      <td>0</td>\n",
       "      <td>0</td>\n",
       "      <td>0</td>\n",
       "      <td>0</td>\n",
       "      <td>1</td>\n",
       "    </tr>\n",
       "    <tr>\n",
       "      <th>2</th>\n",
       "      <td>9.0</td>\n",
       "      <td>41.948167</td>\n",
       "      <td>-87.730698</td>\n",
       "      <td>2.833272</td>\n",
       "      <td>84</td>\n",
       "      <td>58</td>\n",
       "      <td>71.0</td>\n",
       "      <td>7.0</td>\n",
       "      <td>55.0</td>\n",
       "      <td>61.0</td>\n",
       "      <td>...</td>\n",
       "      <td>33.0</td>\n",
       "      <td>2.1</td>\n",
       "      <td>0</td>\n",
       "      <td>False</td>\n",
       "      <td>0</td>\n",
       "      <td>1</td>\n",
       "      <td>0</td>\n",
       "      <td>0</td>\n",
       "      <td>0</td>\n",
       "      <td>0</td>\n",
       "    </tr>\n",
       "    <tr>\n",
       "      <th>3</th>\n",
       "      <td>8.0</td>\n",
       "      <td>41.702724</td>\n",
       "      <td>-87.536497</td>\n",
       "      <td>0.001000</td>\n",
       "      <td>80</td>\n",
       "      <td>71</td>\n",
       "      <td>76.0</td>\n",
       "      <td>4.0</td>\n",
       "      <td>67.0</td>\n",
       "      <td>70.0</td>\n",
       "      <td>...</td>\n",
       "      <td>7.0</td>\n",
       "      <td>5.8</td>\n",
       "      <td>0</td>\n",
       "      <td>False</td>\n",
       "      <td>0</td>\n",
       "      <td>0</td>\n",
       "      <td>0</td>\n",
       "      <td>1</td>\n",
       "      <td>0</td>\n",
       "      <td>0</td>\n",
       "    </tr>\n",
       "    <tr>\n",
       "      <th>4</th>\n",
       "      <td>9.0</td>\n",
       "      <td>41.964242</td>\n",
       "      <td>-87.757639</td>\n",
       "      <td>1.098946</td>\n",
       "      <td>84</td>\n",
       "      <td>69</td>\n",
       "      <td>77.0</td>\n",
       "      <td>14.0</td>\n",
       "      <td>68.0</td>\n",
       "      <td>70.0</td>\n",
       "      <td>...</td>\n",
       "      <td>16.0</td>\n",
       "      <td>10.6</td>\n",
       "      <td>1</td>\n",
       "      <td>False</td>\n",
       "      <td>0</td>\n",
       "      <td>1</td>\n",
       "      <td>0</td>\n",
       "      <td>0</td>\n",
       "      <td>0</td>\n",
       "      <td>0</td>\n",
       "    </tr>\n",
       "  </tbody>\n",
       "</table>\n",
       "<p>5 rows × 28 columns</p>\n",
       "</div>"
      ],
      "text/plain": [
       "   month   latitude  longitude  msqto_log  tmax  tmin  tavg  delta  dewpt  \\\n",
       "0    6.0  41.991429 -87.747113   2.397986    86    65  76.0    6.0   67.0   \n",
       "1    8.0  41.678618 -87.559308   2.944492    84    72  78.0    5.0   71.0   \n",
       "2    9.0  41.948167 -87.730698   2.833272    84    58  71.0    7.0   55.0   \n",
       "3    8.0  41.702724 -87.536497   0.001000    80    71  76.0    4.0   67.0   \n",
       "4    9.0  41.964242 -87.757639   1.098946    84    69  77.0   14.0   68.0   \n",
       "\n",
       "   wetbulb           ...             winddirection  avgspeed  \\\n",
       "0     69.0           ...                      18.0      11.6   \n",
       "1     73.0           ...                      29.0       6.0   \n",
       "2     61.0           ...                      33.0       2.1   \n",
       "3     70.0           ...                       7.0       5.8   \n",
       "4     70.0           ...                      16.0      10.6   \n",
       "\n",
       "   spray_targeted_prev  spray_targeted  species_culex_pipiens  \\\n",
       "0                    0           False                      0   \n",
       "1                    0           False                      0   \n",
       "2                    0           False                      0   \n",
       "3                    0           False                      0   \n",
       "4                    1           False                      0   \n",
       "\n",
       "   species_culex_pipiens_restuans  species_culex_restuans  \\\n",
       "0                               1                       0   \n",
       "1                               0                       0   \n",
       "2                               1                       0   \n",
       "3                               0                       0   \n",
       "4                               1                       0   \n",
       "\n",
       "   species_culex_salinarius  species_culex_tarsalis  species_culex_territans  \n",
       "0                         0                       0                        0  \n",
       "1                         0                       0                        1  \n",
       "2                         0                       0                        0  \n",
       "3                         1                       0                        0  \n",
       "4                         0                       0                        0  \n",
       "\n",
       "[5 rows x 28 columns]"
      ]
     },
     "execution_count": 3,
     "metadata": {},
     "output_type": "execute_result"
    }
   ],
   "source": [
    "df_data[X_col[1:]].head()"
   ]
  },
  {
   "cell_type": "markdown",
   "metadata": {},
   "source": [
    "Expected inputs from user:\n",
    "* month, expected mosquito count (low, avg, high), species present, whether the area was sprayed\n",
    "\n",
    "Assumptions/approach:\n",
    "* monthly average of daily mosquito counts\n",
    "* lower quantile 0.1 per month\n",
    "* upper quantile 0.9 per month\n",
    "* assume uniform distribution amongst species types\n",
    "* assume uniform distribution for all locations\n",
    "* assume uniform distribution over days per month\n",
    "* assume sprayed in both current and prev month if user selects to spray"
   ]
  },
  {
   "cell_type": "code",
   "execution_count": 97,
   "metadata": {},
   "outputs": [],
   "source": [
    "df_data['msqto_cnt'] = [int(np.e**x) for x in df_data['msqto_log']]"
   ]
  },
  {
   "cell_type": "code",
   "execution_count": 98,
   "metadata": {},
   "outputs": [],
   "source": [
    "df_data['msqto_avg'] = df_data.groupby(['month'])['msqto_cnt'].transform(lambda x: x.mean())"
   ]
  },
  {
   "cell_type": "code",
   "execution_count": 102,
   "metadata": {},
   "outputs": [],
   "source": [
    "df_data['msqto_low'] = df_data[['month','msqto_cnt']].groupby(['month']).transform(lambda x: x.quantile(0.1))"
   ]
  },
  {
   "cell_type": "code",
   "execution_count": 100,
   "metadata": {},
   "outputs": [],
   "source": [
    "df_data['msqto_high'] = df_data[['month','msqto_cnt']].groupby(['month']).transform(lambda x: x.quantile(0.9))"
   ]
  },
  {
   "cell_type": "code",
   "execution_count": 103,
   "metadata": {
    "scrolled": false
   },
   "outputs": [
    {
     "data": {
      "text/html": [
       "<div>\n",
       "<style scoped>\n",
       "    .dataframe tbody tr th:only-of-type {\n",
       "        vertical-align: middle;\n",
       "    }\n",
       "\n",
       "    .dataframe tbody tr th {\n",
       "        vertical-align: top;\n",
       "    }\n",
       "\n",
       "    .dataframe thead th {\n",
       "        text-align: right;\n",
       "    }\n",
       "</style>\n",
       "<table border=\"1\" class=\"dataframe\">\n",
       "  <thead>\n",
       "    <tr style=\"text-align: right;\">\n",
       "      <th></th>\n",
       "      <th>date</th>\n",
       "      <th>virus_present</th>\n",
       "      <th>year</th>\n",
       "      <th>month</th>\n",
       "      <th>species</th>\n",
       "      <th>latitude</th>\n",
       "      <th>longitude</th>\n",
       "      <th>mosquito_cnt</th>\n",
       "      <th>tmax</th>\n",
       "      <th>tmin</th>\n",
       "      <th>...</th>\n",
       "      <th>species_culex_tarsalis</th>\n",
       "      <th>species_culex_territans</th>\n",
       "      <th>msqto_log</th>\n",
       "      <th>heat_log</th>\n",
       "      <th>sunset_log</th>\n",
       "      <th>precip_log</th>\n",
       "      <th>msqto_cnt</th>\n",
       "      <th>msqto_avg</th>\n",
       "      <th>msqto_low</th>\n",
       "      <th>msqto_high</th>\n",
       "    </tr>\n",
       "  </thead>\n",
       "  <tbody>\n",
       "    <tr>\n",
       "      <th>0</th>\n",
       "      <td>2009-06-19</td>\n",
       "      <td>0</td>\n",
       "      <td>2009.0</td>\n",
       "      <td>6.0</td>\n",
       "      <td>CULEX PIPIENS/RESTUANS</td>\n",
       "      <td>41.991429</td>\n",
       "      <td>-87.747113</td>\n",
       "      <td>11</td>\n",
       "      <td>86</td>\n",
       "      <td>65</td>\n",
       "      <td>...</td>\n",
       "      <td>0</td>\n",
       "      <td>0</td>\n",
       "      <td>2.397986</td>\n",
       "      <td>-6.907755</td>\n",
       "      <td>-4.036076</td>\n",
       "      <td>1.379018</td>\n",
       "      <td>11</td>\n",
       "      <td>9.622289</td>\n",
       "      <td>1.0</td>\n",
       "      <td>22.0</td>\n",
       "    </tr>\n",
       "    <tr>\n",
       "      <th>1</th>\n",
       "      <td>2007-08-09</td>\n",
       "      <td>0</td>\n",
       "      <td>2007.0</td>\n",
       "      <td>8.0</td>\n",
       "      <td>CULEX TERRITANS</td>\n",
       "      <td>41.678618</td>\n",
       "      <td>-87.559308</td>\n",
       "      <td>19</td>\n",
       "      <td>84</td>\n",
       "      <td>72</td>\n",
       "      <td>...</td>\n",
       "      <td>0</td>\n",
       "      <td>1</td>\n",
       "      <td>2.944492</td>\n",
       "      <td>-6.907755</td>\n",
       "      <td>-0.724982</td>\n",
       "      <td>-2.975930</td>\n",
       "      <td>19</td>\n",
       "      <td>12.127636</td>\n",
       "      <td>1.0</td>\n",
       "      <td>35.0</td>\n",
       "    </tr>\n",
       "    <tr>\n",
       "      <th>2</th>\n",
       "      <td>2009-09-14</td>\n",
       "      <td>0</td>\n",
       "      <td>2009.0</td>\n",
       "      <td>9.0</td>\n",
       "      <td>CULEX PIPIENS/RESTUANS</td>\n",
       "      <td>41.948167</td>\n",
       "      <td>-87.730698</td>\n",
       "      <td>17</td>\n",
       "      <td>84</td>\n",
       "      <td>58</td>\n",
       "      <td>...</td>\n",
       "      <td>0</td>\n",
       "      <td>0</td>\n",
       "      <td>2.833272</td>\n",
       "      <td>-6.907755</td>\n",
       "      <td>0.360700</td>\n",
       "      <td>-6.907755</td>\n",
       "      <td>17</td>\n",
       "      <td>7.887006</td>\n",
       "      <td>1.0</td>\n",
       "      <td>19.0</td>\n",
       "    </tr>\n",
       "    <tr>\n",
       "      <th>3</th>\n",
       "      <td>2007-08-15</td>\n",
       "      <td>0</td>\n",
       "      <td>2007.0</td>\n",
       "      <td>8.0</td>\n",
       "      <td>CULEX SALINARIUS</td>\n",
       "      <td>41.702724</td>\n",
       "      <td>-87.536497</td>\n",
       "      <td>1</td>\n",
       "      <td>80</td>\n",
       "      <td>71</td>\n",
       "      <td>...</td>\n",
       "      <td>0</td>\n",
       "      <td>0</td>\n",
       "      <td>0.001000</td>\n",
       "      <td>-6.907755</td>\n",
       "      <td>-0.481806</td>\n",
       "      <td>-1.465338</td>\n",
       "      <td>1</td>\n",
       "      <td>12.127636</td>\n",
       "      <td>1.0</td>\n",
       "      <td>35.0</td>\n",
       "    </tr>\n",
       "    <tr>\n",
       "      <th>4</th>\n",
       "      <td>2013-09-19</td>\n",
       "      <td>0</td>\n",
       "      <td>2013.0</td>\n",
       "      <td>9.0</td>\n",
       "      <td>CULEX PIPIENS/RESTUANS</td>\n",
       "      <td>41.964242</td>\n",
       "      <td>-87.757639</td>\n",
       "      <td>3</td>\n",
       "      <td>84</td>\n",
       "      <td>69</td>\n",
       "      <td>...</td>\n",
       "      <td>0</td>\n",
       "      <td>0</td>\n",
       "      <td>1.098946</td>\n",
       "      <td>-6.907755</td>\n",
       "      <td>0.470628</td>\n",
       "      <td>-0.173164</td>\n",
       "      <td>3</td>\n",
       "      <td>7.887006</td>\n",
       "      <td>1.0</td>\n",
       "      <td>19.0</td>\n",
       "    </tr>\n",
       "  </tbody>\n",
       "</table>\n",
       "<p>5 rows × 45 columns</p>\n",
       "</div>"
      ],
      "text/plain": [
       "         date  virus_present    year  month                 species  \\\n",
       "0  2009-06-19              0  2009.0    6.0  CULEX PIPIENS/RESTUANS   \n",
       "1  2007-08-09              0  2007.0    8.0         CULEX TERRITANS   \n",
       "2  2009-09-14              0  2009.0    9.0  CULEX PIPIENS/RESTUANS   \n",
       "3  2007-08-15              0  2007.0    8.0        CULEX SALINARIUS   \n",
       "4  2013-09-19              0  2013.0    9.0  CULEX PIPIENS/RESTUANS   \n",
       "\n",
       "    latitude  longitude  mosquito_cnt  tmax  tmin     ...      \\\n",
       "0  41.991429 -87.747113            11    86    65     ...       \n",
       "1  41.678618 -87.559308            19    84    72     ...       \n",
       "2  41.948167 -87.730698            17    84    58     ...       \n",
       "3  41.702724 -87.536497             1    80    71     ...       \n",
       "4  41.964242 -87.757639             3    84    69     ...       \n",
       "\n",
       "   species_culex_tarsalis  species_culex_territans  msqto_log  heat_log  \\\n",
       "0                       0                        0   2.397986 -6.907755   \n",
       "1                       0                        1   2.944492 -6.907755   \n",
       "2                       0                        0   2.833272 -6.907755   \n",
       "3                       0                        0   0.001000 -6.907755   \n",
       "4                       0                        0   1.098946 -6.907755   \n",
       "\n",
       "   sunset_log  precip_log  msqto_cnt  msqto_avg msqto_low  msqto_high  \n",
       "0   -4.036076    1.379018         11   9.622289       1.0        22.0  \n",
       "1   -0.724982   -2.975930         19  12.127636       1.0        35.0  \n",
       "2    0.360700   -6.907755         17   7.887006       1.0        19.0  \n",
       "3   -0.481806   -1.465338          1  12.127636       1.0        35.0  \n",
       "4    0.470628   -0.173164          3   7.887006       1.0        19.0  \n",
       "\n",
       "[5 rows x 45 columns]"
      ]
     },
     "execution_count": 103,
     "metadata": {},
     "output_type": "execute_result"
    }
   ],
   "source": [
    "df_data.head()"
   ]
  },
  {
   "cell_type": "code",
   "execution_count": 113,
   "metadata": {},
   "outputs": [
    {
     "data": {
      "text/html": [
       "<div>\n",
       "<style scoped>\n",
       "    .dataframe tbody tr th:only-of-type {\n",
       "        vertical-align: middle;\n",
       "    }\n",
       "\n",
       "    .dataframe tbody tr th {\n",
       "        vertical-align: top;\n",
       "    }\n",
       "\n",
       "    .dataframe thead th {\n",
       "        text-align: right;\n",
       "    }\n",
       "</style>\n",
       "<table border=\"1\" class=\"dataframe\">\n",
       "  <thead>\n",
       "    <tr style=\"text-align: right;\">\n",
       "      <th></th>\n",
       "      <th>month</th>\n",
       "      <th>latitude</th>\n",
       "      <th>longitude</th>\n",
       "      <th>msqto_avg</th>\n",
       "      <th>msqto_low</th>\n",
       "      <th>msqto_high</th>\n",
       "      <th>tmax</th>\n",
       "      <th>tmin</th>\n",
       "      <th>tavg</th>\n",
       "      <th>delta</th>\n",
       "      <th>...</th>\n",
       "      <th>heat_log</th>\n",
       "      <th>cool</th>\n",
       "      <th>sunrise</th>\n",
       "      <th>sunset_log</th>\n",
       "      <th>precip_log</th>\n",
       "      <th>pressure</th>\n",
       "      <th>sealvlpressure</th>\n",
       "      <th>windspeed</th>\n",
       "      <th>winddirection</th>\n",
       "      <th>avgspeed</th>\n",
       "    </tr>\n",
       "  </thead>\n",
       "  <tbody>\n",
       "    <tr>\n",
       "      <th>0</th>\n",
       "      <td>5.0</td>\n",
       "      <td>41.659112</td>\n",
       "      <td>-87.538693</td>\n",
       "      <td>2.802469</td>\n",
       "      <td>1.0</td>\n",
       "      <td>5.0</td>\n",
       "      <td>62.0</td>\n",
       "      <td>54.0</td>\n",
       "      <td>58.0</td>\n",
       "      <td>-5.0</td>\n",
       "      <td>...</td>\n",
       "      <td>1.946053</td>\n",
       "      <td>0.0</td>\n",
       "      <td>4.35</td>\n",
       "      <td>-1.382302</td>\n",
       "      <td>-6.907755</td>\n",
       "      <td>29.06</td>\n",
       "      <td>29.76</td>\n",
       "      <td>6.8</td>\n",
       "      <td>30.0</td>\n",
       "      <td>8.1</td>\n",
       "    </tr>\n",
       "    <tr>\n",
       "      <th>1</th>\n",
       "      <td>5.0</td>\n",
       "      <td>41.662014</td>\n",
       "      <td>-87.724608</td>\n",
       "      <td>2.802469</td>\n",
       "      <td>1.0</td>\n",
       "      <td>5.0</td>\n",
       "      <td>62.0</td>\n",
       "      <td>54.0</td>\n",
       "      <td>58.0</td>\n",
       "      <td>-5.0</td>\n",
       "      <td>...</td>\n",
       "      <td>1.946053</td>\n",
       "      <td>0.0</td>\n",
       "      <td>4.35</td>\n",
       "      <td>-1.382302</td>\n",
       "      <td>-6.907755</td>\n",
       "      <td>29.06</td>\n",
       "      <td>29.76</td>\n",
       "      <td>6.8</td>\n",
       "      <td>30.0</td>\n",
       "      <td>8.1</td>\n",
       "    </tr>\n",
       "    <tr>\n",
       "      <th>2</th>\n",
       "      <td>5.0</td>\n",
       "      <td>41.673408</td>\n",
       "      <td>-87.599862</td>\n",
       "      <td>2.802469</td>\n",
       "      <td>1.0</td>\n",
       "      <td>5.0</td>\n",
       "      <td>62.0</td>\n",
       "      <td>54.0</td>\n",
       "      <td>58.0</td>\n",
       "      <td>-5.0</td>\n",
       "      <td>...</td>\n",
       "      <td>1.946053</td>\n",
       "      <td>0.0</td>\n",
       "      <td>4.35</td>\n",
       "      <td>-1.382302</td>\n",
       "      <td>-6.907755</td>\n",
       "      <td>29.06</td>\n",
       "      <td>29.76</td>\n",
       "      <td>6.8</td>\n",
       "      <td>30.0</td>\n",
       "      <td>8.1</td>\n",
       "    </tr>\n",
       "    <tr>\n",
       "      <th>3</th>\n",
       "      <td>5.0</td>\n",
       "      <td>41.678618</td>\n",
       "      <td>-87.559308</td>\n",
       "      <td>2.802469</td>\n",
       "      <td>1.0</td>\n",
       "      <td>5.0</td>\n",
       "      <td>62.0</td>\n",
       "      <td>54.0</td>\n",
       "      <td>58.0</td>\n",
       "      <td>-5.0</td>\n",
       "      <td>...</td>\n",
       "      <td>1.946053</td>\n",
       "      <td>0.0</td>\n",
       "      <td>4.35</td>\n",
       "      <td>-1.382302</td>\n",
       "      <td>-6.907755</td>\n",
       "      <td>29.06</td>\n",
       "      <td>29.76</td>\n",
       "      <td>6.8</td>\n",
       "      <td>30.0</td>\n",
       "      <td>8.1</td>\n",
       "    </tr>\n",
       "    <tr>\n",
       "      <th>4</th>\n",
       "      <td>5.0</td>\n",
       "      <td>41.680946</td>\n",
       "      <td>-87.535198</td>\n",
       "      <td>2.802469</td>\n",
       "      <td>1.0</td>\n",
       "      <td>5.0</td>\n",
       "      <td>62.0</td>\n",
       "      <td>54.0</td>\n",
       "      <td>58.0</td>\n",
       "      <td>-5.0</td>\n",
       "      <td>...</td>\n",
       "      <td>1.946053</td>\n",
       "      <td>0.0</td>\n",
       "      <td>4.35</td>\n",
       "      <td>-1.382302</td>\n",
       "      <td>-6.907755</td>\n",
       "      <td>29.06</td>\n",
       "      <td>29.76</td>\n",
       "      <td>6.8</td>\n",
       "      <td>30.0</td>\n",
       "      <td>8.1</td>\n",
       "    </tr>\n",
       "  </tbody>\n",
       "</table>\n",
       "<p>5 rows × 22 columns</p>\n",
       "</div>"
      ],
      "text/plain": [
       "   month   latitude  longitude  msqto_avg  msqto_low  msqto_high  tmax  tmin  \\\n",
       "0    5.0  41.659112 -87.538693   2.802469        1.0         5.0  62.0  54.0   \n",
       "1    5.0  41.662014 -87.724608   2.802469        1.0         5.0  62.0  54.0   \n",
       "2    5.0  41.673408 -87.599862   2.802469        1.0         5.0  62.0  54.0   \n",
       "3    5.0  41.678618 -87.559308   2.802469        1.0         5.0  62.0  54.0   \n",
       "4    5.0  41.680946 -87.535198   2.802469        1.0         5.0  62.0  54.0   \n",
       "\n",
       "   tavg  delta    ...     heat_log  cool  sunrise  sunset_log  precip_log  \\\n",
       "0  58.0   -5.0    ...     1.946053   0.0     4.35   -1.382302   -6.907755   \n",
       "1  58.0   -5.0    ...     1.946053   0.0     4.35   -1.382302   -6.907755   \n",
       "2  58.0   -5.0    ...     1.946053   0.0     4.35   -1.382302   -6.907755   \n",
       "3  58.0   -5.0    ...     1.946053   0.0     4.35   -1.382302   -6.907755   \n",
       "4  58.0   -5.0    ...     1.946053   0.0     4.35   -1.382302   -6.907755   \n",
       "\n",
       "   pressure  sealvlpressure  windspeed  winddirection  avgspeed  \n",
       "0     29.06           29.76        6.8           30.0       8.1  \n",
       "1     29.06           29.76        6.8           30.0       8.1  \n",
       "2     29.06           29.76        6.8           30.0       8.1  \n",
       "3     29.06           29.76        6.8           30.0       8.1  \n",
       "4     29.06           29.76        6.8           30.0       8.1  \n",
       "\n",
       "[5 rows x 22 columns]"
      ]
     },
     "execution_count": 113,
     "metadata": {},
     "output_type": "execute_result"
    }
   ],
   "source": [
    "# create new df - msqto_avg/low/high are based on month so included as part of the month/lat/long unique key\n",
    "# drop columns that would be supplied by user input\n",
    "df_summary = (df_data[X_col[1:]+['msqto_avg','msqto_low','msqto_high']]\n",
    "    .groupby(['month','latitude','longitude','msqto_avg','msqto_low','msqto_high'])\n",
    "    .mean().reset_index()\n",
    "    .drop(columns=['msqto_log','spray_targeted_prev','spray_targeted','species_culex_pipiens','species_culex_pipiens_restuans','species_culex_restuans','species_culex_salinarius','species_culex_tarsalis','species_culex_territans'])\n",
    ")\n",
    "df_summary.head()"
   ]
  },
  {
   "cell_type": "code",
   "execution_count": 114,
   "metadata": {},
   "outputs": [],
   "source": [
    "pickle.dump(df_summary,open('pickles/df_summary.pkl','wb'))"
   ]
  },
  {
   "cell_type": "code",
   "execution_count": 118,
   "metadata": {},
   "outputs": [
    {
     "data": {
      "text/plain": [
       "Index(['month', 'latitude', 'longitude', 'msqto_log', 'tmax', 'tmin', 'tavg',\n",
       "       'delta', 'dewpt', 'wetbulb', 'heat_log', 'cool', 'sunrise',\n",
       "       'sunset_log', 'precip_log', 'pressure', 'sealvlpressure', 'windspeed',\n",
       "       'winddirection', 'avgspeed', 'spray_targeted_prev', 'spray_targeted',\n",
       "       'species_culex_pipiens', 'species_culex_pipiens_restuans',\n",
       "       'species_culex_restuans', 'species_culex_salinarius',\n",
       "       'species_culex_tarsalis', 'species_culex_territans'],\n",
       "      dtype='object')"
      ]
     },
     "execution_count": 118,
     "metadata": {},
     "output_type": "execute_result"
    }
   ],
   "source": [
    "df_data[X_col[1:]].columns"
   ]
  },
  {
   "cell_type": "code",
   "execution_count": 119,
   "metadata": {},
   "outputs": [
    {
     "data": {
      "text/plain": [
       "Index(['month', 'latitude', 'longitude', 'msqto_avg', 'msqto_low',\n",
       "       'msqto_high', 'tmax', 'tmin', 'tavg', 'delta', 'dewpt', 'wetbulb',\n",
       "       'heat_log', 'cool', 'sunrise', 'sunset_log', 'precip_log', 'pressure',\n",
       "       'sealvlpressure', 'windspeed', 'winddirection', 'avgspeed'],\n",
       "      dtype='object')"
      ]
     },
     "execution_count": 119,
     "metadata": {},
     "output_type": "execute_result"
    }
   ],
   "source": [
    "df_summary.columns"
   ]
  },
  {
   "cell_type": "code",
   "execution_count": 67,
   "metadata": {
    "scrolled": false
   },
   "outputs": [
    {
     "data": {
      "text/plain": [
       "CULEX PIPIENS/RESTUANS    3826\n",
       "CULEX RESTUANS            2393\n",
       "CULEX PIPIENS             1950\n",
       "CULEX TERRITANS            216\n",
       "CULEX SALINARIUS            83\n",
       "CULEX TARSALIS               6\n",
       "CULEX ERRATICUS              1\n",
       "Name: species, dtype: int64"
      ]
     },
     "execution_count": 67,
     "metadata": {},
     "output_type": "execute_result"
    }
   ],
   "source": [
    "df_data['species'].value_counts()"
   ]
  },
  {
   "cell_type": "code",
   "execution_count": 76,
   "metadata": {},
   "outputs": [],
   "source": [
    "# messing around with the idea of using % per species...next time\n",
    "for i in df_data['species'].value_counts().index:\n",
    "    col_name = re.sub(r'[ /]','_',i).lower()\n",
    "    df_data[col_name] = (df_data['species']==i)*df_data['msqto_cnt']\n",
    "    \n",
    "for i in df_data['species'].value_counts().index:\n",
    "    col_name = re.sub(r'[ /]','_',i).lower()\n",
    "    new_col_name = 'sum_'+re.sub(r'[ /]','_',i).lower()\n",
    "    df_data[new_col_name] = df_data.groupby(['month','year',col_name])['msqto_cnt'].transform(lambda x: sum(x))"
   ]
  },
  {
   "cell_type": "code",
   "execution_count": 124,
   "metadata": {},
   "outputs": [],
   "source": [
    "np_test = np.zeros((df_summary.shape[0],6))\n",
    "np_test[:,2]=1"
   ]
  },
  {
   "cell_type": "code",
   "execution_count": 125,
   "metadata": {},
   "outputs": [
    {
     "data": {
      "text/plain": [
       "array([[0., 0., 1., 0., 0., 0.],\n",
       "       [0., 0., 1., 0., 0., 0.],\n",
       "       [0., 0., 1., 0., 0., 0.],\n",
       "       ...,\n",
       "       [0., 0., 1., 0., 0., 0.],\n",
       "       [0., 0., 1., 0., 0., 0.],\n",
       "       [0., 0., 1., 0., 0., 0.]])"
      ]
     },
     "execution_count": 125,
     "metadata": {},
     "output_type": "execute_result"
    }
   ],
   "source": [
    "np_test"
   ]
  },
  {
   "cell_type": "code",
   "execution_count": 127,
   "metadata": {
    "scrolled": true
   },
   "outputs": [
    {
     "name": "stdout",
     "output_type": "stream",
     "text": [
      "0 pipiens 1\n",
      "1 territans 0\n"
     ]
    }
   ],
   "source": [
    "test_dict = {'pipiens':1,'territans':0}\n",
    "for idx,val in enumerate(test_dict):\n",
    "    print(idx,val,test_dict[val])"
   ]
  },
  {
   "cell_type": "code",
   "execution_count": 2,
   "metadata": {},
   "outputs": [],
   "source": [
    "import api\n",
    "from api import *"
   ]
  },
  {
   "cell_type": "code",
   "execution_count": 40,
   "metadata": {},
   "outputs": [
    {
     "name": "stderr",
     "output_type": "stream",
     "text": [
      "E:\\Metis\\MetisProject03\\api.py:40: FutureWarning: Sorting because non-concatenation axis is not aligned. A future version\n",
      "of pandas will change to not sort by default.\n",
      "\n",
      "To accept the future behavior, pass 'sort=True'.\n",
      "\n",
      "To retain the current behavior and silence the warning, pass sort=False\n",
      "\n",
      "  df_new = pd.concat((df_new,df_loop),axis=0)\n",
      "E:\\Metis\\MetisProject03\\api.py:47: FutureWarning: Sorting because non-concatenation axis is not aligned. A future version\n",
      "of pandas will change to not sort by default.\n",
      "\n",
      "To accept the future behavior, pass 'sort=True'.\n",
      "\n",
      "To retain the current behavior and silence the warning, pass sort=False\n",
      "\n",
      "  df_new = pd.concat((df_new,df_loop),axis=0)\n"
     ]
    },
    {
     "ename": "TypeError",
     "evalue": "__init__() got an unexpected keyword argument 'fill'",
     "output_type": "error",
     "traceback": [
      "\u001b[1;31m---------------------------------------------------------------------------\u001b[0m",
      "\u001b[1;31mTypeError\u001b[0m                                 Traceback (most recent call last)",
      "\u001b[1;32m<ipython-input-40-2ea55962883f>\u001b[0m in \u001b[0;36m<module>\u001b[1;34m()\u001b[0m\n\u001b[0;32m      3\u001b[0m \u001b[1;31m#colors = ['#B7A2DB','#9B5A8A','#55286F']\u001b[0m\u001b[1;33m\u001b[0m\u001b[1;33m\u001b[0m\u001b[0m\n\u001b[0;32m      4\u001b[0m \u001b[0mcolors\u001b[0m \u001b[1;33m=\u001b[0m \u001b[1;33m[\u001b[0m\u001b[1;34m'#9EFFB6'\u001b[0m\u001b[1;33m,\u001b[0m\u001b[1;34m'#47B2A9'\u001b[0m\u001b[1;33m,\u001b[0m\u001b[1;34m'#417271'\u001b[0m\u001b[1;33m]\u001b[0m\u001b[1;33m\u001b[0m\u001b[0m\n\u001b[1;32m----> 5\u001b[1;33m \u001b[0mgen_map\u001b[0m\u001b[1;33m(\u001b[0m\u001b[0mdf_output\u001b[0m\u001b[1;33m,\u001b[0m\u001b[0mcolors\u001b[0m\u001b[1;33m)\u001b[0m\u001b[1;33m\u001b[0m\u001b[0m\n\u001b[0m",
      "\u001b[1;32mE:\\Metis\\MetisProject03\\api.py\u001b[0m in \u001b[0;36mgen_map\u001b[1;34m(df_output, colors)\u001b[0m\n\u001b[0;32m     79\u001b[0m                 \u001b[0mcolor\u001b[0m \u001b[1;33m=\u001b[0m \u001b[0mcolor\u001b[0m\u001b[1;33m,\u001b[0m\u001b[1;33m\u001b[0m\u001b[0m\n\u001b[0;32m     80\u001b[0m                 \u001b[0mfill_opacity\u001b[0m \u001b[1;33m=\u001b[0m \u001b[1;36m.9\u001b[0m\u001b[1;33m,\u001b[0m\u001b[1;33m\u001b[0m\u001b[0m\n\u001b[1;32m---> 81\u001b[1;33m                 \u001b[0mopacity\u001b[0m \u001b[1;33m=\u001b[0m \u001b[1;36m1\u001b[0m\u001b[1;33m\u001b[0m\u001b[0m\n\u001b[0m\u001b[0;32m     82\u001b[0m             ).add_to(chicago_map)\n\u001b[0;32m     83\u001b[0m \u001b[1;33m\u001b[0m\u001b[0m\n",
      "\u001b[1;31mTypeError\u001b[0m: __init__() got an unexpected keyword argument 'fill'"
     ]
    }
   ],
   "source": [
    "df_output = gen_data(5,0.5,1,1,1,1,1,1,1,1)\n",
    "\n",
    "#colors = ['#B7A2DB','#9B5A8A','#55286F']\n",
    "colors = ['#9EFFB6','#47B2A9','#417271']\n",
    "gen_map(df_output,colors)"
   ]
  },
  {
   "cell_type": "code",
   "execution_count": 647,
   "metadata": {},
   "outputs": [
    {
     "data": {
      "text/plain": [
       "array([0.17785714, 0.1897619 , 0.25035714])"
      ]
     },
     "execution_count": 647,
     "metadata": {},
     "output_type": "execute_result"
    }
   ],
   "source": [
    "identify_bins(df_output,colors)"
   ]
  },
  {
   "cell_type": "code",
   "execution_count": 668,
   "metadata": {
    "scrolled": false
   },
   "outputs": [
    {
     "data": {
      "text/html": [
       "<div style=\"width:100%;\"><div style=\"position:relative;width:100%;height:0;padding-bottom:60%;\"><iframe src=\"data:text/html;charset=utf-8;base64,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\" style=\"position:absolute;width:100%;height:100%;left:0;top:0;border:none !important;\" allowfullscreen webkitallowfullscreen mozallowfullscreen></iframe></div></div>"
      ],
      "text/plain": [
       "<folium.folium.Map at 0x7f42ee1c6d30>"
      ]
     },
     "execution_count": 668,
     "metadata": {},
     "output_type": "execute_result"
    }
   ],
   "source": [
    "# more circles because more traps checked in June on average than in May\n",
    "\n",
    "df_output = gen_data(6,0.1,0,0,0,0,1,0,0,0)\n",
    "\n",
    "#colors = ['#B7A2DB','#9B5A8A','#55286F']\n",
    "colors = ['#9EFFB6','#47B2A9','#417271']\n",
    "gen_map(df_output,colors)"
   ]
  },
  {
   "cell_type": "code",
   "execution_count": 662,
   "metadata": {
    "scrolled": true
   },
   "outputs": [
    {
     "data": {
      "text/plain": [
       "array([0.05, 0.1 , 0.21])"
      ]
     },
     "execution_count": 662,
     "metadata": {},
     "output_type": "execute_result"
    }
   ],
   "source": [
    "identify_bins(df_output,colors)"
   ]
  },
  {
   "cell_type": "code",
   "execution_count": 3,
   "metadata": {},
   "outputs": [],
   "source": [
    "import itertools \n",
    "np_species = np.array([list(item) for item in itertools.product((0,1),(0,1),(0,1),(0,1),(0,1),(0,1),(0,1))])"
   ]
  },
  {
   "cell_type": "code",
   "execution_count": 16,
   "metadata": {},
   "outputs": [
    {
     "data": {
      "text/plain": [
       "array([[0, 0, 0, 0, 0, 0, 1],\n",
       "       [0, 0, 0, 0, 0, 1, 0],\n",
       "       [0, 0, 0, 0, 0, 1, 1],\n",
       "       [0, 0, 0, 0, 1, 0, 0],\n",
       "       [0, 0, 0, 0, 1, 0, 1],\n",
       "       [0, 0, 0, 0, 1, 1, 0],\n",
       "       [0, 0, 0, 0, 1, 1, 1],\n",
       "       [0, 0, 0, 1, 0, 0, 0],\n",
       "       [0, 0, 0, 1, 0, 0, 1],\n",
       "       [0, 0, 0, 1, 0, 1, 0],\n",
       "       [0, 0, 0, 1, 0, 1, 1],\n",
       "       [0, 0, 0, 1, 1, 0, 0],\n",
       "       [0, 0, 0, 1, 1, 0, 1],\n",
       "       [0, 0, 0, 1, 1, 1, 0],\n",
       "       [0, 0, 0, 1, 1, 1, 1],\n",
       "       [0, 0, 1, 0, 0, 0, 0],\n",
       "       [0, 0, 1, 0, 0, 0, 1],\n",
       "       [0, 0, 1, 0, 0, 1, 0],\n",
       "       [0, 0, 1, 0, 0, 1, 1],\n",
       "       [0, 0, 1, 0, 1, 0, 0],\n",
       "       [0, 0, 1, 0, 1, 0, 1],\n",
       "       [0, 0, 1, 0, 1, 1, 0],\n",
       "       [0, 0, 1, 0, 1, 1, 1],\n",
       "       [0, 0, 1, 1, 0, 0, 0],\n",
       "       [0, 0, 1, 1, 0, 0, 1],\n",
       "       [0, 0, 1, 1, 0, 1, 0],\n",
       "       [0, 0, 1, 1, 0, 1, 1],\n",
       "       [0, 0, 1, 1, 1, 0, 0],\n",
       "       [0, 0, 1, 1, 1, 0, 1],\n",
       "       [0, 0, 1, 1, 1, 1, 0],\n",
       "       [0, 0, 1, 1, 1, 1, 1],\n",
       "       [0, 1, 0, 0, 0, 0, 0],\n",
       "       [0, 1, 0, 0, 0, 0, 1],\n",
       "       [0, 1, 0, 0, 0, 1, 0],\n",
       "       [0, 1, 0, 0, 0, 1, 1],\n",
       "       [0, 1, 0, 0, 1, 0, 0],\n",
       "       [0, 1, 0, 0, 1, 0, 1],\n",
       "       [0, 1, 0, 0, 1, 1, 0],\n",
       "       [0, 1, 0, 0, 1, 1, 1],\n",
       "       [0, 1, 0, 1, 0, 0, 0],\n",
       "       [0, 1, 0, 1, 0, 0, 1],\n",
       "       [0, 1, 0, 1, 0, 1, 0],\n",
       "       [0, 1, 0, 1, 0, 1, 1],\n",
       "       [0, 1, 0, 1, 1, 0, 0],\n",
       "       [0, 1, 0, 1, 1, 0, 1],\n",
       "       [0, 1, 0, 1, 1, 1, 0],\n",
       "       [0, 1, 0, 1, 1, 1, 1],\n",
       "       [0, 1, 1, 0, 0, 0, 0],\n",
       "       [0, 1, 1, 0, 0, 0, 1],\n",
       "       [0, 1, 1, 0, 0, 1, 0],\n",
       "       [0, 1, 1, 0, 0, 1, 1],\n",
       "       [0, 1, 1, 0, 1, 0, 0],\n",
       "       [0, 1, 1, 0, 1, 0, 1],\n",
       "       [0, 1, 1, 0, 1, 1, 0],\n",
       "       [0, 1, 1, 0, 1, 1, 1],\n",
       "       [0, 1, 1, 1, 0, 0, 0],\n",
       "       [0, 1, 1, 1, 0, 0, 1],\n",
       "       [0, 1, 1, 1, 0, 1, 0],\n",
       "       [0, 1, 1, 1, 0, 1, 1],\n",
       "       [0, 1, 1, 1, 1, 0, 0],\n",
       "       [0, 1, 1, 1, 1, 0, 1],\n",
       "       [0, 1, 1, 1, 1, 1, 0],\n",
       "       [0, 1, 1, 1, 1, 1, 1],\n",
       "       [1, 0, 0, 0, 0, 0, 0],\n",
       "       [1, 0, 0, 0, 0, 0, 1],\n",
       "       [1, 0, 0, 0, 0, 1, 0],\n",
       "       [1, 0, 0, 0, 0, 1, 1],\n",
       "       [1, 0, 0, 0, 1, 0, 0],\n",
       "       [1, 0, 0, 0, 1, 0, 1],\n",
       "       [1, 0, 0, 0, 1, 1, 0],\n",
       "       [1, 0, 0, 0, 1, 1, 1],\n",
       "       [1, 0, 0, 1, 0, 0, 0],\n",
       "       [1, 0, 0, 1, 0, 0, 1],\n",
       "       [1, 0, 0, 1, 0, 1, 0],\n",
       "       [1, 0, 0, 1, 0, 1, 1],\n",
       "       [1, 0, 0, 1, 1, 0, 0],\n",
       "       [1, 0, 0, 1, 1, 0, 1],\n",
       "       [1, 0, 0, 1, 1, 1, 0],\n",
       "       [1, 0, 0, 1, 1, 1, 1],\n",
       "       [1, 0, 1, 0, 0, 0, 0],\n",
       "       [1, 0, 1, 0, 0, 0, 1],\n",
       "       [1, 0, 1, 0, 0, 1, 0],\n",
       "       [1, 0, 1, 0, 0, 1, 1],\n",
       "       [1, 0, 1, 0, 1, 0, 0],\n",
       "       [1, 0, 1, 0, 1, 0, 1],\n",
       "       [1, 0, 1, 0, 1, 1, 0],\n",
       "       [1, 0, 1, 0, 1, 1, 1],\n",
       "       [1, 0, 1, 1, 0, 0, 0],\n",
       "       [1, 0, 1, 1, 0, 0, 1],\n",
       "       [1, 0, 1, 1, 0, 1, 0],\n",
       "       [1, 0, 1, 1, 0, 1, 1],\n",
       "       [1, 0, 1, 1, 1, 0, 0],\n",
       "       [1, 0, 1, 1, 1, 0, 1],\n",
       "       [1, 0, 1, 1, 1, 1, 0],\n",
       "       [1, 0, 1, 1, 1, 1, 1],\n",
       "       [1, 1, 0, 0, 0, 0, 0],\n",
       "       [1, 1, 0, 0, 0, 0, 1],\n",
       "       [1, 1, 0, 0, 0, 1, 0],\n",
       "       [1, 1, 0, 0, 0, 1, 1],\n",
       "       [1, 1, 0, 0, 1, 0, 0],\n",
       "       [1, 1, 0, 0, 1, 0, 1],\n",
       "       [1, 1, 0, 0, 1, 1, 0],\n",
       "       [1, 1, 0, 0, 1, 1, 1],\n",
       "       [1, 1, 0, 1, 0, 0, 0],\n",
       "       [1, 1, 0, 1, 0, 0, 1],\n",
       "       [1, 1, 0, 1, 0, 1, 0],\n",
       "       [1, 1, 0, 1, 0, 1, 1],\n",
       "       [1, 1, 0, 1, 1, 0, 0],\n",
       "       [1, 1, 0, 1, 1, 0, 1],\n",
       "       [1, 1, 0, 1, 1, 1, 0],\n",
       "       [1, 1, 0, 1, 1, 1, 1],\n",
       "       [1, 1, 1, 0, 0, 0, 0],\n",
       "       [1, 1, 1, 0, 0, 0, 1],\n",
       "       [1, 1, 1, 0, 0, 1, 0],\n",
       "       [1, 1, 1, 0, 0, 1, 1],\n",
       "       [1, 1, 1, 0, 1, 0, 0],\n",
       "       [1, 1, 1, 0, 1, 0, 1],\n",
       "       [1, 1, 1, 0, 1, 1, 0],\n",
       "       [1, 1, 1, 0, 1, 1, 1],\n",
       "       [1, 1, 1, 1, 0, 0, 0],\n",
       "       [1, 1, 1, 1, 0, 0, 1],\n",
       "       [1, 1, 1, 1, 0, 1, 0],\n",
       "       [1, 1, 1, 1, 0, 1, 1],\n",
       "       [1, 1, 1, 1, 1, 0, 0],\n",
       "       [1, 1, 1, 1, 1, 0, 1],\n",
       "       [1, 1, 1, 1, 1, 1, 0],\n",
       "       [1, 1, 1, 1, 1, 1, 1]])"
      ]
     },
     "execution_count": 16,
     "metadata": {},
     "output_type": "execute_result"
    }
   ],
   "source": [
    "np_species[1:]"
   ]
  },
  {
   "cell_type": "code",
   "execution_count": 18,
   "metadata": {},
   "outputs": [
    {
     "data": {
      "text/plain": [
       "array([0, 0, 0, 0, 0, 0, 1])"
      ]
     },
     "execution_count": 18,
     "metadata": {},
     "output_type": "execute_result"
    }
   ],
   "source": [
    "np_species[1:][0]"
   ]
  },
  {
   "cell_type": "code",
   "execution_count": 35,
   "metadata": {},
   "outputs": [],
   "source": [
    "import pickle\n",
    "from sklearn.ensemble import RandomForestClassifier\n",
    "import matplotlib.pyplot as plt\n",
    "import numpy as np\n",
    "import pandas as pd\n",
    "import pprint\n",
    "import folium\n",
    "from folium import plugins\n",
    "\n",
    "model = pickle.load(open('pickles/randomforest_10.pkl','rb'))\n",
    "ssX = pickle.load(open('pickles/ssX.pkl','rb'))\n",
    "df = pickle.load(open('pickles/df_summary.pkl','rb'))\n",
    "col_order = pickle.load(open('pickles/X_col_log.pkl','rb'))[1:]\n",
    "\n",
    "def gen_data2(month,msqto_qnt,spray,erraticus,pipiens,pipiens_restuans,restuans,salinarius,tarsalis,territans):\n",
    "    df_input = df[df['month']==month].reset_index(drop=True).copy()\n",
    "\n",
    "    # hardcoded for use in web app as options available for user input\n",
    "    if msqto_qnt == 0.5:\n",
    "        df_input['msqto_cnt'] = df_input['msqto_avg']\n",
    "    elif msqto_qnt == 0.1:\n",
    "        df_input['msqto_cnt'] = df_input['msqto_low']\n",
    "    else:\n",
    "        df_input['msqto_cnt'] = df_input['msqto_high']\n",
    "\n",
    "    df_input['msqto_log'] = np.log(0.001+df_input['msqto_cnt'])\n",
    "    df_input['spray_targeted'] = np.ones((df_input.shape[0],1)) if spray == 1 else np.zeros((df_input.shape[0],1))\n",
    "    df_input['spray_targeted_prev'] = np.ones((df_input.shape[0],1)) if spray == 1 else np.zeros((df_input.shape[0],1))\n",
    "    df_new = pd.DataFrame(columns=df_input.columns)\n",
    "\n",
    "    species_dict = {'pipiens':pipiens,'pipiens_restuans':pipiens_restuans,'restuans':restuans,'salinarius':salinarius,'tarsalis':tarsalis,'territans':territans}\n",
    "\n",
    "    for idx,val in enumerate(species_dict):\n",
    "        df_loop = df_input.copy()\n",
    "        np_species = np.zeros((df_loop.shape[0],len(species_dict)))\n",
    "        if species_dict[val]==1:\n",
    "            np_species[:,idx] = species_dict[val]\n",
    "            df_species = pd.DataFrame(np_species,columns=['species_culex_'+x for x in species_dict.keys()])\n",
    "            df_loop = df_loop.join(df_species)\n",
    "            df_new = pd.concat((df_new,df_loop),axis=0)\n",
    "\n",
    "    if erraticus == 1:\n",
    "        np_species = np.zeros((df_loop.shape[0],len(species_dict)))\n",
    "        df_loop = df_input.copy()\n",
    "        df_species = pd.DataFrame(np_species,columns=['species_culex_'+x for x in species_dict.keys()])\n",
    "        df_loop = df_loop.join(df_species)\n",
    "        df_new = pd.concat((df_new,df_loop),axis=0)\n",
    "\n",
    "    df_new.drop_duplicates().reset_index(drop=True,inplace=True)\n",
    "\n",
    "    X_scaled = ssX.transform(df_new[col_order])\n",
    "\n",
    "    # prob of 1\n",
    "    y_pred = model.predict_proba(X_scaled)[:,1]\n",
    "\n",
    "    df_new['virus_present'] = y_pred\n",
    "    \n",
    "    df_new['species'] = df_new.apply(func, axis=1)\n",
    "\n",
    "    df_output = df_new[['spray_targeted','species','month','latitude','longitude','virus_present']].copy()\n",
    "    df_output = df_output.groupby(['spray_targeted','species','month','latitude','longitude'])['virus_present'].apply(np.mean).reset_index()\n",
    "    df_output['percentile'] = df_output['virus_present'].transform(lambda x: x.rank(pct=True))\n",
    "    return(df_output)\n",
    "\n",
    "def func(row):\n",
    "    if row['species_culex_pipiens'] == 1:\n",
    "        return 'culex pipiens'\n",
    "    elif row['species_culex_pipiens_restuans'] == 1:\n",
    "        return 'culex pipiens/restuans'\n",
    "    elif row['species_culex_restuans'] == 1:\n",
    "        return 'culex restuans'\n",
    "    elif row['species_culex_salinarius'] == 1:\n",
    "        return 'culex salinarius'\n",
    "    elif row['species_culex_tarsalis'] == 1:\n",
    "        return 'culex tarsalis'\n",
    "    elif row['species_culex_territans'] == 1:\n",
    "        return 'culex_territans'\n",
    "    else:\n",
    "        return 'culex erraticus'\n"
   ]
  },
  {
   "cell_type": "code",
   "execution_count": null,
   "metadata": {},
   "outputs": [],
   "source": []
  },
  {
   "cell_type": "code",
   "execution_count": 32,
   "metadata": {},
   "outputs": [
    {
     "data": {
      "text/plain": [
       "Index(['date', 'virus_present', 'year', 'month', 'species', 'latitude',\n",
       "       'longitude', 'mosquito_cnt', 'tmax', 'tmin', 'tavg', 'delta', 'dewpt',\n",
       "       'wetbulb', 'heat', 'cool', 'sunrise', 'sunset', 'codesum', 'snowdepth',\n",
       "       'snowfall', 'precip', 'pressure', 'sealvlpressure', 'windspeed',\n",
       "       'winddirection', 'avgspeed', 'spray_dist', 'last_spray_dist',\n",
       "       'spray_targeted_prev', 'spray_targeted', 'species_culex_pipiens',\n",
       "       'species_culex_pipiens_restuans', 'species_culex_restuans',\n",
       "       'species_culex_salinarius', 'species_culex_tarsalis',\n",
       "       'species_culex_territans', 'msqto_log', 'heat_log', 'sunset_log',\n",
       "       'precip_log'],\n",
       "      dtype='object')"
      ]
     },
     "execution_count": 32,
     "metadata": {},
     "output_type": "execute_result"
    }
   ],
   "source": [
    "df_data.columns"
   ]
  },
  {
   "cell_type": "code",
   "execution_count": 36,
   "metadata": {
    "scrolled": true
   },
   "outputs": [
    {
     "name": "stderr",
     "output_type": "stream",
     "text": [
      "C:\\ProgramData\\Anaconda3\\lib\\site-packages\\ipykernel_launcher.py:40: FutureWarning: Sorting because non-concatenation axis is not aligned. A future version\n",
      "of pandas will change to not sort by default.\n",
      "\n",
      "To accept the future behavior, pass 'sort=True'.\n",
      "\n",
      "To retain the current behavior and silence the warning, pass sort=False\n",
      "\n",
      "C:\\ProgramData\\Anaconda3\\lib\\site-packages\\ipykernel_launcher.py:47: FutureWarning: Sorting because non-concatenation axis is not aligned. A future version\n",
      "of pandas will change to not sort by default.\n",
      "\n",
      "To accept the future behavior, pass 'sort=True'.\n",
      "\n",
      "To retain the current behavior and silence the warning, pass sort=False\n",
      "\n"
     ]
    }
   ],
   "source": [
    "df_output_all = pd.DataFrame()\n",
    "\n",
    "for month in range(5,11):\n",
    "    for msqto_qnt in [0.1,0.5,0.9]:\n",
    "        for spray in [0,1]:\n",
    "            for species in np_species[1:]:\n",
    "                df_loop = gen_data2(month,msqto_qnt,spray,species[0],species[1],species[2],species[3],species[4],species[5],species[6])\n",
    "                df_output_all = pd.concat((df_output_all,df_loop),axis=0)"
   ]
  },
  {
   "cell_type": "code",
   "execution_count": 37,
   "metadata": {},
   "outputs": [
    {
     "data": {
      "text/plain": [
       "(1811712, 7)"
      ]
     },
     "execution_count": 37,
     "metadata": {},
     "output_type": "execute_result"
    }
   ],
   "source": [
    "df_output_all.shape"
   ]
  },
  {
   "cell_type": "code",
   "execution_count": 38,
   "metadata": {},
   "outputs": [],
   "source": [
    "pickle.dump(df_output_all,open('pickles/df_output_all.pkl','wb'))"
   ]
  },
  {
   "cell_type": "code",
   "execution_count": 39,
   "metadata": {},
   "outputs": [],
   "source": [
    "df_output_all.to_csv('Data/output_all.csv',sep=',',index=False)"
   ]
  },
  {
   "cell_type": "code",
   "execution_count": null,
   "metadata": {},
   "outputs": [],
   "source": []
  }
 ],
 "metadata": {
  "kernelspec": {
   "display_name": "Python 3",
   "language": "python",
   "name": "python3"
  },
  "language_info": {
   "codemirror_mode": {
    "name": "ipython",
    "version": 3
   },
   "file_extension": ".py",
   "mimetype": "text/x-python",
   "name": "python",
   "nbconvert_exporter": "python",
   "pygments_lexer": "ipython3",
   "version": "3.5.5"
  }
 },
 "nbformat": 4,
 "nbformat_minor": 2
}
